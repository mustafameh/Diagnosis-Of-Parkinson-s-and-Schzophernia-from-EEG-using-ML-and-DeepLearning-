{
 "cells": [
  {
   "cell_type": "code",
   "execution_count": 2,
   "id": "059edc41-f9ce-41be-975b-1df543d92e61",
   "metadata": {},
   "outputs": [],
   "source": [
    "import pickle \n",
    "import gradio as gr\n",
    "import numpy as np\n",
    "from features import concatenate_features\n",
    "from read_data import read_data\n",
    "\n",
    "pridiction_array=[]"
   ]
  },
  {
   "cell_type": "code",
   "execution_count": 2,
   "id": "72fb26bd-50b8-491b-be98-ed3fd99f2bf6",
   "metadata": {},
   "outputs": [],
   "source": [
    "def predictionRFSP(path):\n",
    "    with open('ForSchizophrenia/model_RF_SP','rb') as f:\n",
    "        model= pickle.load(f)\n",
    "        \n",
    "    TS_epochs_list = read_data(path)\n",
    "    TS_epochs_array=np.array(TS_epochs_list)\n",
    "    TS_features_array=concatenate_features(TS_epochs_array)\n",
    "    \n",
    "    pridiction_array= model.predict(TS_features_array)\n",
    "    if all(v == 0 for v in pridiction_array):\n",
    "        return \"Model Predicts that the subject does not have Schizophrenia with an accuracy of : \" + \"{:.3f}\".format(model.best_score_)\n",
    "    return \"Model Predicts that the subject has Schizophrenia with an accuracy of : \" + \"{:.3f}\".format(model.best_score_)"
   ]
  },
  {
   "cell_type": "code",
   "execution_count": 4,
   "id": "d7b62473-a386-4a5f-9345-b8f0ed40b985",
   "metadata": {},
   "outputs": [],
   "source": [
    "def predict_ChronoNet_PD(path):\n",
    "    with open('ForPD/model_ChronoNet_PD','rb') as f:\n",
    "        model= pickle.load(f)\n",
    "        \n",
    "    TS_epochs_list = read_data(path)\n",
    "    TS_epochs_array=np.array(TS_epochs_list)\n",
    "    TS_features_array=concatenate_features(TS_epochs_array)\n",
    "    \n",
    "    pridiction_array= model.predict(TS_features_array)\n",
    "    if all(v == 0 for v in pridiction_array):\n",
    "        return \"Model Predicts that the subject does not have Schizophrenia with an accuracy of : \" + \"{:.3f}\".format(model.best_score_)\n",
    "    return \"Model Predicts that the subject has Schizophrenia with an accuracy of : \" + \"{:.3f}\".format(model.best_score_)"
   ]
  },
  {
   "cell_type": "code",
   "execution_count": 6,
   "id": "b826dc1e-db77-4e54-99db-e89d10c6c876",
   "metadata": {
    "collapsed": true,
    "jupyter": {
     "outputs_hidden": true
    },
    "tags": []
   },
   "outputs": [
    {
     "name": "stderr",
     "output_type": "stream",
     "text": [
      "Traceback (most recent call last):\n",
      "  File \"C:\\Users\\786me\\AppData\\Local\\Programs\\Python\\Python310\\lib\\site-packages\\gradio\\routes.py\", line 255, in run_predict\n",
      "    output = await app.blocks.process_api(\n",
      "  File \"C:\\Users\\786me\\AppData\\Local\\Programs\\Python\\Python310\\lib\\site-packages\\gradio\\blocks.py\", line 630, in process_api\n",
      "    predictions, duration = await self.call_function(fn_index, processed_input)\n",
      "  File \"C:\\Users\\786me\\AppData\\Local\\Programs\\Python\\Python310\\lib\\site-packages\\gradio\\blocks.py\", line 545, in call_function\n",
      "    prediction = await anyio.to_thread.run_sync(\n",
      "  File \"C:\\Users\\786me\\AppData\\Local\\Programs\\Python\\Python310\\lib\\site-packages\\anyio\\to_thread.py\", line 31, in run_sync\n",
      "    return await get_asynclib().run_sync_in_worker_thread(\n",
      "  File \"C:\\Users\\786me\\AppData\\Local\\Programs\\Python\\Python310\\lib\\site-packages\\anyio\\_backends\\_asyncio.py\", line 937, in run_sync_in_worker_thread\n",
      "    return await future\n",
      "  File \"C:\\Users\\786me\\AppData\\Local\\Programs\\Python\\Python310\\lib\\site-packages\\anyio\\_backends\\_asyncio.py\", line 867, in run\n",
      "    result = context.run(func, *args)\n",
      "  File \"C:\\Users\\786me\\AppData\\Local\\Programs\\Python\\Python310\\lib\\site-packages\\gradio\\interface.py\", line 489, in <lambda>\n",
      "    lambda *args: self.run_prediction(args)[0]\n",
      "  File \"C:\\Users\\786me\\AppData\\Local\\Programs\\Python\\Python310\\lib\\site-packages\\gradio\\interface.py\", line 669, in run_prediction\n",
      "    prediction = self.fn(*processed_input)\n",
      "  File \"C:\\Users\\786me\\AppData\\Local\\Temp\\ipykernel_5008\\1552833773.py\", line 3, in predict_ChronoNet_PD\n",
      "    model= pickle.load(f)\n",
      "  File \"C:\\Users\\786me\\AppData\\Local\\Programs\\Python\\Python310\\lib\\site-packages\\keras\\saving\\pickle_utils.py\", line 48, in deserialize_model_from_bytecode\n",
      "    model = save_module.load_model(temp_dir)\n",
      "  File \"C:\\Users\\786me\\AppData\\Local\\Programs\\Python\\Python310\\lib\\site-packages\\keras\\utils\\traceback_utils.py\", line 67, in error_handler\n",
      "    raise e.with_traceback(filtered_tb) from None\n",
      "  File \"C:\\Users\\786me\\AppData\\Local\\Programs\\Python\\Python310\\lib\\site-packages\\tensorflow\\python\\saved_model\\load.py\", line 915, in load_partial\n",
      "    raise FileNotFoundError(\n",
      "FileNotFoundError: Unsuccessful TensorSliceReader constructor: Failed to find any matching files for ram://e2212c43-0465-49aa-bdb5-47b488b73dd0/variables/variables\n",
      " You may be trying to load on a different device from the computational device. Consider setting the `experimental_io_device` option in `tf.saved_model.LoadOptions` to the io_device such as '/job:localhost'.\n",
      "Traceback (most recent call last):\n",
      "  File \"C:\\Users\\786me\\AppData\\Local\\Programs\\Python\\Python310\\lib\\site-packages\\gradio\\routes.py\", line 255, in run_predict\n",
      "    output = await app.blocks.process_api(\n",
      "  File \"C:\\Users\\786me\\AppData\\Local\\Programs\\Python\\Python310\\lib\\site-packages\\gradio\\blocks.py\", line 630, in process_api\n",
      "    predictions, duration = await self.call_function(fn_index, processed_input)\n",
      "  File \"C:\\Users\\786me\\AppData\\Local\\Programs\\Python\\Python310\\lib\\site-packages\\gradio\\blocks.py\", line 545, in call_function\n",
      "    prediction = await anyio.to_thread.run_sync(\n",
      "  File \"C:\\Users\\786me\\AppData\\Local\\Programs\\Python\\Python310\\lib\\site-packages\\anyio\\to_thread.py\", line 31, in run_sync\n",
      "    return await get_asynclib().run_sync_in_worker_thread(\n",
      "  File \"C:\\Users\\786me\\AppData\\Local\\Programs\\Python\\Python310\\lib\\site-packages\\anyio\\_backends\\_asyncio.py\", line 937, in run_sync_in_worker_thread\n",
      "    return await future\n",
      "  File \"C:\\Users\\786me\\AppData\\Local\\Programs\\Python\\Python310\\lib\\site-packages\\anyio\\_backends\\_asyncio.py\", line 867, in run\n",
      "    result = context.run(func, *args)\n",
      "  File \"C:\\Users\\786me\\AppData\\Local\\Programs\\Python\\Python310\\lib\\site-packages\\gradio\\interface.py\", line 489, in <lambda>\n",
      "    lambda *args: self.run_prediction(args)[0]\n",
      "  File \"C:\\Users\\786me\\AppData\\Local\\Programs\\Python\\Python310\\lib\\site-packages\\gradio\\interface.py\", line 669, in run_prediction\n",
      "    prediction = self.fn(*processed_input)\n",
      "  File \"C:\\Users\\786me\\AppData\\Local\\Temp\\ipykernel_5008\\1552833773.py\", line 3, in predict_ChronoNet_PD\n",
      "    model= pickle.load(f)\n",
      "  File \"C:\\Users\\786me\\AppData\\Local\\Programs\\Python\\Python310\\lib\\site-packages\\keras\\saving\\pickle_utils.py\", line 48, in deserialize_model_from_bytecode\n",
      "    model = save_module.load_model(temp_dir)\n",
      "  File \"C:\\Users\\786me\\AppData\\Local\\Programs\\Python\\Python310\\lib\\site-packages\\keras\\utils\\traceback_utils.py\", line 67, in error_handler\n",
      "    raise e.with_traceback(filtered_tb) from None\n",
      "  File \"C:\\Users\\786me\\AppData\\Local\\Programs\\Python\\Python310\\lib\\site-packages\\tensorflow\\python\\saved_model\\load.py\", line 915, in load_partial\n",
      "    raise FileNotFoundError(\n",
      "FileNotFoundError: Unsuccessful TensorSliceReader constructor: Failed to find any matching files for ram://68b0acc5-93c7-4e72-b894-1cc78a300181/variables/variables\n",
      " You may be trying to load on a different device from the computational device. Consider setting the `experimental_io_device` option in `tf.saved_model.LoadOptions` to the io_device such as '/job:localhost'.\n"
     ]
    }
   ],
   "source": [
    "%%capture\n",
    "inputs=gr.inputs.Textbox(label=\"Import edf file\")\n",
    "ui = gr.Interface(fn=predict_ChronoNet_PD, inputs=\"text\", outputs=\"text\")\n",
    "ui.launch()"
   ]
  },
  {
   "cell_type": "code",
   "execution_count": 9,
   "id": "d84bf18c-ee0b-479f-bc19-72ac79610713",
   "metadata": {},
   "outputs": [
    {
     "ename": "FileNotFoundError",
     "evalue": "Unsuccessful TensorSliceReader constructor: Failed to find any matching files for ram://53552aaa-157b-438a-92c9-e8fa11be2e4b/variables/variables\n You may be trying to load on a different device from the computational device. Consider setting the `experimental_io_device` option in `tf.saved_model.LoadOptions` to the io_device such as '/job:localhost'.",
     "output_type": "error",
     "traceback": [
      "\u001b[1;31m---------------------------------------------------------------------------\u001b[0m",
      "\u001b[1;31mFileNotFoundError\u001b[0m                         Traceback (most recent call last)",
      "Input \u001b[1;32mIn [9]\u001b[0m, in \u001b[0;36m<cell line: 1>\u001b[1;34m()\u001b[0m\n\u001b[0;32m      1\u001b[0m \u001b[38;5;28;01mwith\u001b[39;00m \u001b[38;5;28mopen\u001b[39m(\u001b[38;5;124m'\u001b[39m\u001b[38;5;124mForPD/model_ChronoNet_PD\u001b[39m\u001b[38;5;124m'\u001b[39m,\u001b[38;5;124m'\u001b[39m\u001b[38;5;124mrb\u001b[39m\u001b[38;5;124m'\u001b[39m) \u001b[38;5;28;01mas\u001b[39;00m f:\n\u001b[1;32m----> 2\u001b[0m         model\u001b[38;5;241m=\u001b[39m \u001b[43mpickle\u001b[49m\u001b[38;5;241;43m.\u001b[39;49m\u001b[43mload\u001b[49m\u001b[43m(\u001b[49m\u001b[43mf\u001b[49m\u001b[43m)\u001b[49m\n\u001b[0;32m      4\u001b[0m TS_epochs_list \u001b[38;5;241m=\u001b[39m read_data(\u001b[38;5;124m'\u001b[39m\u001b[38;5;124mhc4.edf\u001b[39m\u001b[38;5;124m'\u001b[39m)\n\u001b[0;32m      5\u001b[0m TS_epochs_array\u001b[38;5;241m=\u001b[39mnp\u001b[38;5;241m.\u001b[39marray(TS_epochs_list)\n",
      "File \u001b[1;32m~\\AppData\\Local\\Programs\\Python\\Python310\\lib\\site-packages\\keras\\saving\\pickle_utils.py:48\u001b[0m, in \u001b[0;36mdeserialize_model_from_bytecode\u001b[1;34m(serialized_model)\u001b[0m\n\u001b[0;32m     46\u001b[0m       \u001b[38;5;28;01mwith\u001b[39;00m tf\u001b[38;5;241m.\u001b[39mio\u001b[38;5;241m.\u001b[39mgfile\u001b[38;5;241m.\u001b[39mGFile(dest_path, \u001b[38;5;124m\"\u001b[39m\u001b[38;5;124mwb\u001b[39m\u001b[38;5;124m\"\u001b[39m) \u001b[38;5;28;01mas\u001b[39;00m f:\n\u001b[0;32m     47\u001b[0m         f\u001b[38;5;241m.\u001b[39mwrite(archive\u001b[38;5;241m.\u001b[39mextractfile(name)\u001b[38;5;241m.\u001b[39mread())\n\u001b[1;32m---> 48\u001b[0m model \u001b[38;5;241m=\u001b[39m \u001b[43msave_module\u001b[49m\u001b[38;5;241;43m.\u001b[39;49m\u001b[43mload_model\u001b[49m\u001b[43m(\u001b[49m\u001b[43mtemp_dir\u001b[49m\u001b[43m)\u001b[49m\n\u001b[0;32m     49\u001b[0m tf\u001b[38;5;241m.\u001b[39mio\u001b[38;5;241m.\u001b[39mgfile\u001b[38;5;241m.\u001b[39mrmtree(temp_dir)\n\u001b[0;32m     50\u001b[0m \u001b[38;5;28;01mreturn\u001b[39;00m model\n",
      "File \u001b[1;32m~\\AppData\\Local\\Programs\\Python\\Python310\\lib\\site-packages\\keras\\utils\\traceback_utils.py:67\u001b[0m, in \u001b[0;36mfilter_traceback.<locals>.error_handler\u001b[1;34m(*args, **kwargs)\u001b[0m\n\u001b[0;32m     65\u001b[0m \u001b[38;5;28;01mexcept\u001b[39;00m \u001b[38;5;167;01mException\u001b[39;00m \u001b[38;5;28;01mas\u001b[39;00m e:  \u001b[38;5;66;03m# pylint: disable=broad-except\u001b[39;00m\n\u001b[0;32m     66\u001b[0m   filtered_tb \u001b[38;5;241m=\u001b[39m _process_traceback_frames(e\u001b[38;5;241m.\u001b[39m__traceback__)\n\u001b[1;32m---> 67\u001b[0m   \u001b[38;5;28;01mraise\u001b[39;00m e\u001b[38;5;241m.\u001b[39mwith_traceback(filtered_tb) \u001b[38;5;28;01mfrom\u001b[39;00m \u001b[38;5;28mNone\u001b[39m\n\u001b[0;32m     68\u001b[0m \u001b[38;5;28;01mfinally\u001b[39;00m:\n\u001b[0;32m     69\u001b[0m   \u001b[38;5;28;01mdel\u001b[39;00m filtered_tb\n",
      "File \u001b[1;32m~\\AppData\\Local\\Programs\\Python\\Python310\\lib\\site-packages\\tensorflow\\python\\saved_model\\load.py:915\u001b[0m, in \u001b[0;36mload_partial\u001b[1;34m(export_dir, filters, tags, options)\u001b[0m\n\u001b[0;32m    912\u001b[0m   loader \u001b[38;5;241m=\u001b[39m Loader(object_graph_proto, saved_model_proto, export_dir,\n\u001b[0;32m    913\u001b[0m                   ckpt_options, options, filters)\n\u001b[0;32m    914\u001b[0m \u001b[38;5;28;01mexcept\u001b[39;00m errors\u001b[38;5;241m.\u001b[39mNotFoundError \u001b[38;5;28;01mas\u001b[39;00m err:\n\u001b[1;32m--> 915\u001b[0m   \u001b[38;5;28;01mraise\u001b[39;00m \u001b[38;5;167;01mFileNotFoundError\u001b[39;00m(\n\u001b[0;32m    916\u001b[0m       \u001b[38;5;28mstr\u001b[39m(err) \u001b[38;5;241m+\u001b[39m \u001b[38;5;124m\"\u001b[39m\u001b[38;5;130;01m\\n\u001b[39;00m\u001b[38;5;124m You may be trying to load on a different device \u001b[39m\u001b[38;5;124m\"\u001b[39m\n\u001b[0;32m    917\u001b[0m       \u001b[38;5;124m\"\u001b[39m\u001b[38;5;124mfrom the computational device. Consider setting the \u001b[39m\u001b[38;5;124m\"\u001b[39m\n\u001b[0;32m    918\u001b[0m       \u001b[38;5;124m\"\u001b[39m\u001b[38;5;124m`experimental_io_device` option in `tf.saved_model.LoadOptions` \u001b[39m\u001b[38;5;124m\"\u001b[39m\n\u001b[0;32m    919\u001b[0m       \u001b[38;5;124m\"\u001b[39m\u001b[38;5;124mto the io_device such as \u001b[39m\u001b[38;5;124m'\u001b[39m\u001b[38;5;124m/job:localhost\u001b[39m\u001b[38;5;124m'\u001b[39m\u001b[38;5;124m.\u001b[39m\u001b[38;5;124m\"\u001b[39m)\n\u001b[0;32m    920\u001b[0m root \u001b[38;5;241m=\u001b[39m loader\u001b[38;5;241m.\u001b[39mget(\u001b[38;5;241m0\u001b[39m)\n\u001b[0;32m    921\u001b[0m root\u001b[38;5;241m.\u001b[39mgraph_debug_info \u001b[38;5;241m=\u001b[39m loader\u001b[38;5;241m.\u001b[39madjust_debug_info_func_names(debug_info)\n",
      "\u001b[1;31mFileNotFoundError\u001b[0m: Unsuccessful TensorSliceReader constructor: Failed to find any matching files for ram://53552aaa-157b-438a-92c9-e8fa11be2e4b/variables/variables\n You may be trying to load on a different device from the computational device. Consider setting the `experimental_io_device` option in `tf.saved_model.LoadOptions` to the io_device such as '/job:localhost'."
     ]
    }
   ],
   "source": [
    "with open('ForPD/model_ChronoNet_PD','rb') as f:\n",
    "        model= pickle.load(f)\n",
    "        \n",
    "TS_epochs_list = read_data('hc4.edf')\n",
    "TS_epochs_array=np.array(TS_epochs_list)\n",
    "\n",
    "model.predict(TS_epochs_array)"
   ]
  },
  {
   "cell_type": "code",
   "execution_count": null,
   "id": "79f10525-7544-4864-9686-73750bebf8ff",
   "metadata": {},
   "outputs": [],
   "source": []
  },
  {
   "cell_type": "code",
   "execution_count": null,
   "id": "cdd07e4e-2446-49c9-b2cc-8b8d217efbe7",
   "metadata": {},
   "outputs": [],
   "source": []
  }
 ],
 "metadata": {
  "kernelspec": {
   "display_name": "Python 3 (ipykernel)",
   "language": "python",
   "name": "python3"
  },
  "language_info": {
   "codemirror_mode": {
    "name": "ipython",
    "version": 3
   },
   "file_extension": ".py",
   "mimetype": "text/x-python",
   "name": "python",
   "nbconvert_exporter": "python",
   "pygments_lexer": "ipython3",
   "version": "3.10.5"
  }
 },
 "nbformat": 4,
 "nbformat_minor": 5
}
